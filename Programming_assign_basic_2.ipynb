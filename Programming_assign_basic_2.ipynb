{
 "cells": [
  {
   "cell_type": "markdown",
   "metadata": {},
   "source": [
    "# ANS 1"
   ]
  },
  {
   "cell_type": "code",
   "execution_count": 2,
   "metadata": {},
   "outputs": [
    {
     "name": "stdout",
     "output_type": "stream",
     "text": [
      "Enter any value in kilometers : 40.36\n",
      "40.36 kilometers is equal to 25.08 miles\n"
     ]
    }
   ],
   "source": [
    "# Taking kilometers input from the user\n",
    "kilometers = float(input('Enter any value in kilometers : '))\n",
    "\n",
    "# Value of conversion(conv) factor \n",
    "conv_factor = 0.621371\n",
    "\n",
    "# miles can be calculated as :\n",
    "miles = kilometers * conv_factor\n",
    "print('%0.2f kilometers is equal to %0.2f miles' %(kilometers,miles))"
   ]
  },
  {
   "cell_type": "markdown",
   "metadata": {},
   "source": [
    "# ANS 2"
   ]
  },
  {
   "cell_type": "code",
   "execution_count": 4,
   "metadata": {},
   "outputs": [
    {
     "name": "stdout",
     "output_type": "stream",
     "text": [
      "Temperature value in degree Celsius: 40.23\n",
      "The 40.23 degree Celsius is equal to : 104.41 Fahrenheit\n"
     ]
    }
   ],
   "source": [
    "celsius_1 = float (input('Temperature value in degree Celsius: ' ))  \n",
    "\n",
    "Fahrenheit_1 = (celsius_1 * 9/5) + 32  \n",
    "# For Converting the temperature to degree Fahrenheit by using the above given formula  \n",
    "\n",
    "# print the required temperature  \n",
    "print ('The %.2f degree Celsius is equal to : %.2f Fahrenheit' %(celsius_1, Fahrenheit_1))  "
   ]
  },
  {
   "cell_type": "markdown",
   "metadata": {},
   "source": [
    "# ANS 3"
   ]
  },
  {
   "cell_type": "code",
   "execution_count": 5,
   "metadata": {
    "scrolled": true
   },
   "outputs": [
    {
     "name": "stdout",
     "output_type": "stream",
     "text": [
      "Enter year : 2021\n",
      "Enter month : 3\n",
      "     March 2021\n",
      "Mo Tu We Th Fr Sa Su\n",
      " 1  2  3  4  5  6  7\n",
      " 8  9 10 11 12 13 14\n",
      "15 16 17 18 19 20 21\n",
      "22 23 24 25 26 27 28\n",
      "29 30 31\n",
      "\n"
     ]
    }
   ],
   "source": [
    "# program to display calendar of specific month and year\n",
    "import calendar  \n",
    "\n",
    "year = int(input('Enter year : '))  \n",
    "month = int(input('Enter month : '))  \n",
    "  \n",
    "# display the calendar  \n",
    "print(calendar.month(year,month))  "
   ]
  },
  {
   "cell_type": "code",
   "execution_count": null,
   "metadata": {},
   "outputs": [],
   "source": [
    "# or we can display calendar of a given year"
   ]
  },
  {
   "cell_type": "code",
   "execution_count": 6,
   "metadata": {},
   "outputs": [
    {
     "name": "stdout",
     "output_type": "stream",
     "text": [
      "                                  2021\n",
      "\n",
      "      January                   February                   March\n",
      "Mo Tu We Th Fr Sa Su      Mo Tu We Th Fr Sa Su      Mo Tu We Th Fr Sa Su\n",
      "             1  2  3       1  2  3  4  5  6  7       1  2  3  4  5  6  7\n",
      " 4  5  6  7  8  9 10       8  9 10 11 12 13 14       8  9 10 11 12 13 14\n",
      "11 12 13 14 15 16 17      15 16 17 18 19 20 21      15 16 17 18 19 20 21\n",
      "18 19 20 21 22 23 24      22 23 24 25 26 27 28      22 23 24 25 26 27 28\n",
      "25 26 27 28 29 30 31                                29 30 31\n",
      "\n",
      "       April                      May                       June\n",
      "Mo Tu We Th Fr Sa Su      Mo Tu We Th Fr Sa Su      Mo Tu We Th Fr Sa Su\n",
      "          1  2  3  4                      1  2          1  2  3  4  5  6\n",
      " 5  6  7  8  9 10 11       3  4  5  6  7  8  9       7  8  9 10 11 12 13\n",
      "12 13 14 15 16 17 18      10 11 12 13 14 15 16      14 15 16 17 18 19 20\n",
      "19 20 21 22 23 24 25      17 18 19 20 21 22 23      21 22 23 24 25 26 27\n",
      "26 27 28 29 30            24 25 26 27 28 29 30      28 29 30\n",
      "                          31\n",
      "\n",
      "        July                     August                  September\n",
      "Mo Tu We Th Fr Sa Su      Mo Tu We Th Fr Sa Su      Mo Tu We Th Fr Sa Su\n",
      "          1  2  3  4                         1             1  2  3  4  5\n",
      " 5  6  7  8  9 10 11       2  3  4  5  6  7  8       6  7  8  9 10 11 12\n",
      "12 13 14 15 16 17 18       9 10 11 12 13 14 15      13 14 15 16 17 18 19\n",
      "19 20 21 22 23 24 25      16 17 18 19 20 21 22      20 21 22 23 24 25 26\n",
      "26 27 28 29 30 31         23 24 25 26 27 28 29      27 28 29 30\n",
      "                          30 31\n",
      "\n",
      "      October                   November                  December\n",
      "Mo Tu We Th Fr Sa Su      Mo Tu We Th Fr Sa Su      Mo Tu We Th Fr Sa Su\n",
      "             1  2  3       1  2  3  4  5  6  7             1  2  3  4  5\n",
      " 4  5  6  7  8  9 10       8  9 10 11 12 13 14       6  7  8  9 10 11 12\n",
      "11 12 13 14 15 16 17      15 16 17 18 19 20 21      13 14 15 16 17 18 19\n",
      "18 19 20 21 22 23 24      22 23 24 25 26 27 28      20 21 22 23 24 25 26\n",
      "25 26 27 28 29 30 31      29 30                     27 28 29 30 31\n",
      "\n"
     ]
    }
   ],
   "source": [
    "# program to display calendar of given year\n",
    "\n",
    "import calendar\n",
    " \n",
    "year = 2021\n",
    " \n",
    "# display the calendar\n",
    "print(calendar.calendar(year))"
   ]
  },
  {
   "cell_type": "markdown",
   "metadata": {},
   "source": [
    "# ANS 4"
   ]
  },
  {
   "cell_type": "code",
   "execution_count": 9,
   "metadata": {},
   "outputs": [
    {
     "name": "stdout",
     "output_type": "stream",
     "text": [
      "Enter a : 10\n",
      "Enter b : 12\n",
      "Enter c : 30\n",
      "The roots are (-0.6-1.624807680927192j) and (-0.6+1.624807680927192j)\n"
     ]
    }
   ],
   "source": [
    "# Let us take a quadratic eqn be 10x**2 + 12x + 30\n",
    "# we have to import cmath module to get complex numbers\n",
    "\n",
    "import cmath  \n",
    "a = float(input('Enter a : '))  \n",
    "b = float(input('Enter b : '))  \n",
    "c = float(input('Enter c : '))  \n",
    "  \n",
    "# calculate the discriminant(d)  \n",
    "d = (b**2) - (4*a*c)  \n",
    "  \n",
    "# Solution are as :-  \n",
    "sol1 = (-b-cmath.sqrt(d))/(2*a)  \n",
    "sol2 = (-b+cmath.sqrt(d))/(2*a)  \n",
    "print('The roots are {0} and {1}'.format(sol1,sol2))   "
   ]
  },
  {
   "cell_type": "markdown",
   "metadata": {},
   "source": [
    "# ANS 5"
   ]
  },
  {
   "cell_type": "code",
   "execution_count": 12,
   "metadata": {},
   "outputs": [
    {
     "name": "stdout",
     "output_type": "stream",
     "text": [
      "Before swapping : \n",
      "Value of x :  10  and y :  50\n",
      "After swapping : \n",
      "Value of x :  50  and y :  10\n"
     ]
    }
   ],
   "source": [
    "# Let us assume any values of x and y\n",
    "x = 10\n",
    "y = 50\n",
    "\n",
    "print (\"Before swapping : \")\n",
    "print(\"Value of x : \", x, \" and y : \", y)\n",
    "\n",
    "# creating a temporary variable and swapping the values\n",
    "temp = x\n",
    "x = y\n",
    "y = temp\n",
    "\n",
    "print (\"After swapping : \")\n",
    "print(\"Value of x : \", x, \" and y : \", y)"
   ]
  }
 ],
 "metadata": {
  "kernelspec": {
   "display_name": "Python 3",
   "language": "python",
   "name": "python3"
  },
  "language_info": {
   "codemirror_mode": {
    "name": "ipython",
    "version": 3
   },
   "file_extension": ".py",
   "mimetype": "text/x-python",
   "name": "python",
   "nbconvert_exporter": "python",
   "pygments_lexer": "ipython3",
   "version": "3.8.5"
  }
 },
 "nbformat": 4,
 "nbformat_minor": 4
}
