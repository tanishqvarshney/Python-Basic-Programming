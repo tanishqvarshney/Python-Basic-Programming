{
 "cells": [
  {
   "cell_type": "markdown",
   "metadata": {},
   "source": [
    "# ANS 1"
   ]
  },
  {
   "cell_type": "code",
   "execution_count": 1,
   "metadata": {},
   "outputs": [
    {
     "name": "stdout",
     "output_type": "stream",
     "text": [
      "Hello Python\n"
     ]
    }
   ],
   "source": [
    "# we can assume a variable for the string value and simply use print function.\n",
    "a = 'Hello Python'\n",
    "print(a)"
   ]
  },
  {
   "cell_type": "code",
   "execution_count": 2,
   "metadata": {},
   "outputs": [
    {
     "data": {
      "text/plain": [
       "'Hello Python'"
      ]
     },
     "execution_count": 2,
     "metadata": {},
     "output_type": "execute_result"
    }
   ],
   "source": [
    "a"
   ]
  },
  {
   "cell_type": "markdown",
   "metadata": {},
   "source": [
    "# ANS 2 "
   ]
  },
  {
   "cell_type": "code",
   "execution_count": 17,
   "metadata": {},
   "outputs": [
    {
     "name": "stdout",
     "output_type": "stream",
     "text": [
      "Enter First Number: 968\n",
      "Enter Second Number: 56\n",
      "Enter the required operation\n",
      "Enter any of these +,/: /\n",
      "968 / 56 : 17.285714285714285\n"
     ]
    }
   ],
   "source": [
    "# let us take two nummbers num1 and num2 \n",
    "# firstly we will perform the result for division\n",
    "num1 = int(input('Enter First Number: '))\n",
    "num2 = int(input('Enter Second Number: '))\n",
    "print('Enter the required operation')\n",
    "char = input('Enter any of these +,/: ')\n",
    "result = 0\n",
    "if char == '+':\n",
    "    result = num1 + num2\n",
    "elif char == '/':\n",
    "    result = num1 / num2\n",
    "else:\n",
    "    print('Not available')\n",
    "print(num1, char , num2, ':', result)"
   ]
  },
  {
   "cell_type": "code",
   "execution_count": 13,
   "metadata": {},
   "outputs": [
    {
     "name": "stdout",
     "output_type": "stream",
     "text": [
      "Enter first number: 65.6\n",
      "Enter second number: 651.65\n",
      "The sum of 65.6 and 651.65 is 717.25\n"
     ]
    }
   ],
   "source": [
    "# Now let us do it for addition by using float too  \n",
    "num1 = input('Enter first number: ')  \n",
    "num2 = input('Enter second number: ')  \n",
    "\n",
    "sum = float(num1) + float(num2)      \n",
    "print('The sum of {0} and {1} is {2}'.format(num1, num2, sum))    "
   ]
  },
  {
   "cell_type": "markdown",
   "metadata": {},
   "source": [
    "# ANS 3"
   ]
  },
  {
   "cell_type": "code",
   "execution_count": null,
   "metadata": {},
   "outputs": [],
   "source": [
    "# Area of a triangle = {s*(s-a)*(s-b)*(s-c)}-1/2"
   ]
  },
  {
   "cell_type": "code",
   "execution_count": 19,
   "metadata": {},
   "outputs": [
    {
     "name": "stdout",
     "output_type": "stream",
     "text": [
      "Enter first side: 10\n",
      "Enter second side: 12\n",
      "Enter third side: 21\n",
      "The area of the triangle is 34.27\n"
     ]
    }
   ],
   "source": [
    "# Let us assume three sides p,q and r  \n",
    "p = float(input('Enter first side: '))  \n",
    "q = float(input('Enter second side: '))  \n",
    "r = float(input('Enter third side: '))  \n",
    "  \n",
    "# Semi perimeter formula  \n",
    "s = (p + q + r) / 2  \n",
    " # Now  \n",
    "area = (s*(s-p)*(s-q)*(s-r)) ** 0.5  \n",
    "print('The area of the triangle is %0.2f' %area)"
   ]
  },
  {
   "cell_type": "markdown",
   "metadata": {},
   "source": [
    "# ANS 4"
   ]
  },
  {
   "cell_type": "code",
   "execution_count": 20,
   "metadata": {},
   "outputs": [
    {
     "name": "stdout",
     "output_type": "stream",
     "text": [
      "Value of x: 50\n",
      "Value of y: 10\n"
     ]
    }
   ],
   "source": [
    "# Program to swap two variable\n",
    "# let us assume two variables\n",
    "x = 10\n",
    "y = 50\n",
    "# Now \n",
    "x, y = y, x\n",
    " \n",
    "print(\"Value of x:\", x)\n",
    "print(\"Value of y:\", y)    "
   ]
  },
  {
   "cell_type": "markdown",
   "metadata": {},
   "source": [
    "# ANS 5"
   ]
  },
  {
   "cell_type": "code",
   "execution_count": 22,
   "metadata": {},
   "outputs": [
    {
     "name": "stdout",
     "output_type": "stream",
     "text": [
      "84\n"
     ]
    }
   ],
   "source": [
    "# Program to generate a random number\n",
    "# Let us take a range from 10 to 100\n",
    "import random\n",
    "print(random.randint(10,100))"
   ]
  }
 ],
 "metadata": {
  "kernelspec": {
   "display_name": "Python 3",
   "language": "python",
   "name": "python3"
  },
  "language_info": {
   "codemirror_mode": {
    "name": "ipython",
    "version": 3
   },
   "file_extension": ".py",
   "mimetype": "text/x-python",
   "name": "python",
   "nbconvert_exporter": "python",
   "pygments_lexer": "ipython3",
   "version": "3.8.5"
  }
 },
 "nbformat": 4,
 "nbformat_minor": 4
}
