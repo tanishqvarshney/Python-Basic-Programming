{
 "cells": [
  {
   "cell_type": "markdown",
   "metadata": {},
   "source": [
    "# ANS 1"
   ]
  },
  {
   "cell_type": "markdown",
   "metadata": {},
   "source": [
    "Python Program to Add two Matrices"
   ]
  },
  {
   "cell_type": "code",
   "execution_count": 3,
   "metadata": {},
   "outputs": [
    {
     "name": "stdout",
     "output_type": "stream",
     "text": [
      "Inputs: [[4, 9, 6], [5, 2, 1], [9, 9, 9]],[[8, 8, 7], [9, 5, 1], [4, 6, 8]]\n",
      "Output: [[12, 17, 13], [14, 7, 2], [13, 15, 17]]\n",
      "Inputs: [[9, 6, 3], [3, 3, 3], [1, 1, 1]],[[5, 5, 5], [6, 6, 6], [7, 7, 7]]\n",
      "Output: [[14, 11, 8], [9, 9, 9], [8, 8, 8]]\n"
     ]
    }
   ],
   "source": [
    "def addMatrices(a,b):\n",
    "    print(f'Inputs: {a},{b}')\n",
    "    if len(a) == len(b):\n",
    "        out_matrix = []\n",
    "        for ele in range(len(a)):\n",
    "            if len(a[ele]) == len(b[ele]):\n",
    "                out_matrix.append([])\n",
    "                for sub_ele in range(len(a[ele])):\n",
    "                    out_matrix[ele].append(a[ele][sub_ele]+b[ele][sub_ele])\n",
    "            else:\n",
    "                print('Both Matrices must contains same no of rows and columns') \n",
    "    else:\n",
    "        print('Both Matrices must contains same no of rows and columns')\n",
    "    print(f'Output: {out_matrix}')\n",
    "\n",
    "addMatrices([[4,9,6],[5,2,1],[9,9,9]],[[8,8,7],[9,5,1],[4,6,8]])\n",
    "addMatrices([[9,6,3],[3,3,3],[1,1,1]],[[5,5,5],[6,6,6],[7,7,7]])"
   ]
  },
  {
   "cell_type": "markdown",
   "metadata": {},
   "source": [
    "# ANS 2 "
   ]
  },
  {
   "cell_type": "markdown",
   "metadata": {},
   "source": [
    "Python Program to Multiply two Matrices"
   ]
  },
  {
   "cell_type": "code",
   "execution_count": 10,
   "metadata": {},
   "outputs": [
    {
     "name": "stdout",
     "output_type": "stream",
     "text": [
      "[[100, 70, 22], [70, 70, 64], [102, 97, 84]]\n"
     ]
    }
   ],
   "source": [
    "a = [[9,5,1],[3,5,7],[4,8,9]]\n",
    "b = [[7,5,1],[7,4,1],[2,5,8]]\n",
    "\n",
    "def multiply_matrice(a,b):\n",
    "    output = []\n",
    "    if len(a[0]) == len(b):\n",
    "        for ele in range(len(a[0])):\n",
    "            output.append([0 for ele in range(len(b[0]))])\n",
    "        for i in range(len(a)):\n",
    "            for j in range(len(b[0])):\n",
    "                for k in range(len(b)):\n",
    "                    output[i][j] += a[i][k]*b[k][j]\n",
    "        print(output)     \n",
    "    else:\n",
    "        print('Matrix Multiplication is Not Possible')\n",
    "        \n",
    "multiply_matrice(a,b)"
   ]
  },
  {
   "cell_type": "markdown",
   "metadata": {},
   "source": [
    "# ANS 3 "
   ]
  },
  {
   "cell_type": "markdown",
   "metadata": {},
   "source": [
    "Python Program to transpose a Matrix"
   ]
  },
  {
   "cell_type": "code",
   "execution_count": 16,
   "metadata": {},
   "outputs": [
    {
     "name": "stdout",
     "output_type": "stream",
     "text": [
      "[[3, 6, 9], [2, 5, 8], [1, 4, 7]] -> [[3, 2, 1], [6, 5, 4], [9, 8, 7]]\n",
      "[[5, 8], [7, 3], [1, 9]] -> [[5, 7, 1], [8, 3, 9]]\n",
      "[[3, 4, 7], [9, 8, 1]] -> [[3, 9], [4, 8], [7, 1]]\n"
     ]
    }
   ],
   "source": [
    "a = [[3,6,9],[2,5,8],[1,4,7]]\n",
    "b = [[5,8],[7,3],[1,9]]\n",
    "c = [[3,4,7],[9,8,1]]\n",
    "\n",
    "def generate_transpose(in_matrix):\n",
    "    out_matrix = []\n",
    "    for ele in range(len(in_matrix[0])):\n",
    "        out_matrix.append([0 for i in range(len(in_matrix))])\n",
    "    for i in range(len(in_matrix)):\n",
    "        for j in range(len(in_matrix[i])):\n",
    "            out_matrix[j][i] = in_matrix[i][j]\n",
    "    print(f'{in_matrix} -> {out_matrix}')\n",
    "        \n",
    "generate_transpose(a)\n",
    "generate_transpose(b)\n",
    "generate_transpose(c)"
   ]
  },
  {
   "cell_type": "markdown",
   "metadata": {},
   "source": [
    "# ANS 4"
   ]
  },
  {
   "cell_type": "markdown",
   "metadata": {},
   "source": [
    "Python Program to sort Words in an Alphabatical Order"
   ]
  },
  {
   "cell_type": "code",
   "execution_count": 20,
   "metadata": {},
   "outputs": [
    {
     "name": "stdout",
     "output_type": "stream",
     "text": [
      "Enter a String: I want to be a Professional Footballer\n",
      "A Be Footballer I Professional To Want\n"
     ]
    }
   ],
   "source": [
    "def sortString():\n",
    "    in_string = input(\"Enter a String: \").title()\n",
    "    sorted_list = sorted(in_string.split(' '))\n",
    "    print(' '.join(sorted_list))\n",
    "\n",
    "sortString()"
   ]
  },
  {
   "cell_type": "markdown",
   "metadata": {},
   "source": [
    "# ANS 5"
   ]
  },
  {
   "cell_type": "markdown",
   "metadata": {},
   "source": [
    "Python Program to remove Punctuations From a String"
   ]
  },
  {
   "cell_type": "code",
   "execution_count": 24,
   "metadata": {},
   "outputs": [
    {
     "name": "stdout",
     "output_type": "stream",
     "text": [
      "Enter a String: $ Cristiano Ronaldo $ is the greatest *footballer* in the history^^ of Football##\n",
      " Cristiano Ronaldo  is the greatest footballer in the history of Football\n"
     ]
    }
   ],
   "source": [
    "def removePunctuatuions():\n",
    "    punctuations = '''!()-[]{};:'\"\\,<>./?@#$%^&*_~'''\n",
    "    in_string = input('Enter a String: ')\n",
    "    out_string = ''\n",
    "    for ele in in_string:\n",
    "        if ele not in punctuations:\n",
    "            out_string += ele\n",
    "    print(out_string)\n",
    "    \n",
    "removePunctuatuions()"
   ]
  }
 ],
 "metadata": {
  "kernelspec": {
   "display_name": "Python 3",
   "language": "python",
   "name": "python3"
  },
  "language_info": {
   "codemirror_mode": {
    "name": "ipython",
    "version": 3
   },
   "file_extension": ".py",
   "mimetype": "text/x-python",
   "name": "python",
   "nbconvert_exporter": "python",
   "pygments_lexer": "ipython3",
   "version": "3.8.5"
  }
 },
 "nbformat": 4,
 "nbformat_minor": 4
}
