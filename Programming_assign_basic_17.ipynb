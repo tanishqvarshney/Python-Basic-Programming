{
 "cells": [
  {
   "cell_type": "markdown",
   "metadata": {},
   "source": [
    "# ANS 1"
   ]
  },
  {
   "cell_type": "code",
   "execution_count": 1,
   "metadata": {},
   "outputs": [
    {
     "name": "stdout",
     "output_type": "stream",
     "text": [
      "(1, 10, 20) ➞ 0\n",
      "(1, 10, 2) ➞ 30\n",
      "(1, 10, 3) ➞ 18\n"
     ]
    }
   ],
   "source": [
    "def evenDivisible(a,b,c):\n",
    "    divList = []\n",
    "    for num in range(a,b+1):\n",
    "        if num%c == 0:\n",
    "            divList.append(num)\n",
    "    print(f'{a,b,c} ➞ {sum(divList)}')\n",
    "\n",
    "evenDivisible(1,10,20)\n",
    "evenDivisible(1,10,2)\n",
    "evenDivisible(1,10,3)"
   ]
  },
  {
   "cell_type": "markdown",
   "metadata": {},
   "source": [
    "# ANS 2"
   ]
  },
  {
   "cell_type": "code",
   "execution_count": 2,
   "metadata": {},
   "outputs": [
    {
     "name": "stdout",
     "output_type": "stream",
     "text": [
      "Enter the inequality: 3<7<11\n",
      "3<7<11 ➞ True\n",
      "Enter the inequality: 13>44>33>1\n",
      "13>44>33>1 ➞ False\n",
      "Enter the inequality: 5\n",
      "5 ➞ 5\n"
     ]
    }
   ],
   "source": [
    "def checkEquality():\n",
    "    in_string = input('Enter the inequality: ')\n",
    "    out_bool = eval(in_string)\n",
    "    print(f'{in_string} ➞ {out_bool}')\n",
    "\n",
    "for x in range(3):\n",
    "    checkEquality()"
   ]
  },
  {
   "cell_type": "markdown",
   "metadata": {},
   "source": [
    "# ANS 3"
   ]
  },
  {
   "cell_type": "code",
   "execution_count": 6,
   "metadata": {},
   "outputs": [
    {
     "name": "stdout",
     "output_type": "stream",
     "text": [
      "String: Tanishq Varshney\n",
      "Replacement character: @\n",
      "Tanishq Varshney @ ➞ T@n@shq V@rshn@y\n",
      "String: Cristiano Ronaldo\n",
      "Replacement character: #\n",
      "Cristiano Ronaldo # ➞ Cr#st##n# R#n#ld#\n",
      "String: Leo messi\n",
      "Replacement character: !\n",
      "Leo messi ! ➞ L!! m!ss!\n"
     ]
    }
   ],
   "source": [
    "def replaceVowels():\n",
    "    vowels = ['a','e','i','o','u','A','E','I','O','U']\n",
    "    in_string = input(\"String: \")\n",
    "    in_string_copy = in_string\n",
    "    in_char = input('Replacement character: ')\n",
    "    for ele in in_string:\n",
    "        if ele in vowels:\n",
    "            in_string = in_string.replace(ele,in_char)\n",
    "    print(f'{in_string_copy} {in_char} ➞ {in_string}')\n",
    "            \n",
    "for x in range(3):\n",
    "    replaceVowels()"
   ]
  },
  {
   "cell_type": "markdown",
   "metadata": {},
   "source": [
    "# ANS 4"
   ]
  },
  {
   "cell_type": "code",
   "execution_count": 3,
   "metadata": {},
   "outputs": [
    {
     "name": "stdout",
     "output_type": "stream",
     "text": [
      "factorial(5) ➞ 120\n",
      "factorial(3) ➞ 6\n",
      "factorial(1) ➞ 1\n",
      "factorial(0) ➞ 1\n"
     ]
    }
   ],
   "source": [
    "def factorial(n):\n",
    "    if n==0:\n",
    "        return 1\n",
    "    return n * factorial(n-1)\n",
    "\n",
    "print(f'factorial(5) ➞ {factorial(5)}')\n",
    "print(f'factorial(3) ➞ {factorial(3)}')\n",
    "print(f'factorial(1) ➞ {factorial(1)}')\n",
    "print(f'factorial(0) ➞ {factorial(0)}')"
   ]
  },
  {
   "cell_type": "markdown",
   "metadata": {},
   "source": [
    "# ANS 5"
   ]
  },
  {
   "cell_type": "code",
   "execution_count": 5,
   "metadata": {},
   "outputs": [
    {
     "name": "stdout",
     "output_type": "stream",
     "text": [
      "Enter the String_1: abcdef\n",
      "Enter the String_2: bcdefg\n",
      "Hamning Distance b/w abcdef and bcdefg ➞ 6\n",
      "Enter the String_1: qwerty\n",
      "Enter the String_2: qwertu\n",
      "Hamning Distance b/w qwerty and qwertu ➞ 1\n",
      "Enter the String_1: weii\n",
      "Enter the String_2: welk\n",
      "Hamning Distance b/w weii and welk ➞ 2\n"
     ]
    }
   ],
   "source": [
    "def genHamDistance():\n",
    "    in_string_1 = input('Enter the String_1: ')\n",
    "    in_string_2 = input('Enter the String_2: ')\n",
    "    if len(in_string_1) == len(in_string_2):\n",
    "        count = 0\n",
    "        for i in range(len(in_string_1)):\n",
    "            if in_string_1[i] != in_string_2[i]:\n",
    "                count = count+1\n",
    "        print(f'Hamning Distance b/w {in_string_1} and {in_string_2} ➞ {count}')\n",
    "    else:\n",
    "        print('Both Strings Must be of Same Length')\n",
    "\n",
    "for x in range(3):\n",
    "    genHamDistance()"
   ]
  }
 ],
 "metadata": {
  "kernelspec": {
   "display_name": "Python 3",
   "language": "python",
   "name": "python3"
  },
  "language_info": {
   "codemirror_mode": {
    "name": "ipython",
    "version": 3
   },
   "file_extension": ".py",
   "mimetype": "text/x-python",
   "name": "python",
   "nbconvert_exporter": "python",
   "pygments_lexer": "ipython3",
   "version": "3.8.5"
  }
 },
 "nbformat": 4,
 "nbformat_minor": 4
}
